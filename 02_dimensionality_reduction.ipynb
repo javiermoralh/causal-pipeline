{
 "cells": [
  {
   "cell_type": "markdown",
   "metadata": {},
   "source": [
    "# Dimensionality Reduction"
   ]
  },
  {
   "cell_type": "markdown",
   "metadata": {},
   "source": [
    "# Dependencies"
   ]
  },
  {
   "cell_type": "code",
   "execution_count": 1,
   "metadata": {},
   "outputs": [],
   "source": [
    "import pandas as pd\n",
    "\n",
    "from sklearn.model_selection import train_test_split, KFold\n",
    "from sklearn import metrics\n",
    "from catboost import CatBoostClassifier, CatBoostRegressor\n",
    "\n",
    "from config import TREATMENT, OUTCOME\n",
    "from utils.preprocessing import create_stratification_split_col\n",
    "from modules.dimensionality_reduction.sequential_forward_selector import SFSCV\n",
    "from modules.dimensionality_reduction.partial_correlation_filter import PartialCorrelationFeatureSelector\n",
    "from modules.dimensionality_reduction.partial_correlation_outcome_predictors import OutcomePartialCorrelationFeatureSelector\n",
    "\n",
    "from modules.dimensionality_reduction.hybrid_selector import HybridSelector"
   ]
  },
  {
   "cell_type": "markdown",
   "metadata": {},
   "source": [
    "# Env vars"
   ]
  },
  {
   "cell_type": "code",
   "execution_count": 2,
   "metadata": {},
   "outputs": [],
   "source": [
    "CONTROLS_CANDIDATES_PATH = \"data/controls_candidates.txt\""
   ]
  },
  {
   "cell_type": "markdown",
   "metadata": {},
   "source": [
    "# Data"
   ]
  },
  {
   "cell_type": "code",
   "execution_count": 3,
   "metadata": {},
   "outputs": [],
   "source": [
    "df = pd.read_parquet(\"data/synthetic_data.parquet\")"
   ]
  },
  {
   "cell_type": "code",
   "execution_count": 4,
   "metadata": {},
   "outputs": [],
   "source": [
    "strat_feature = create_stratification_split_col(df, TREATMENT, OUTCOME)\n",
    "train, test = train_test_split(\n",
    "    df, test_size=0.2, random_state=42, \n",
    "    stratify=strat_feature,\n",
    ")"
   ]
  },
  {
   "cell_type": "markdown",
   "metadata": {},
   "source": [
    "# $P(Y|T, X)$ - Partial correlation based filters"
   ]
  },
  {
   "cell_type": "code",
   "execution_count": 5,
   "metadata": {},
   "outputs": [
    {
     "name": "stdout",
     "output_type": "stream",
     "text": [
      "(12000, 411) (3000, 411)\n"
     ]
    }
   ],
   "source": [
    "X_train, y_train = (\n",
    "    train.drop(columns=[OUTCOME]),\n",
    "    train[[OUTCOME]],\n",
    ")\n",
    "X_test, y_test = (\n",
    "    test.drop(columns=[OUTCOME]),\n",
    "    test[[OUTCOME]],\n",
    ")\n",
    "print(X_train.shape, X_test.shape)"
   ]
  },
  {
   "cell_type": "markdown",
   "metadata": {},
   "source": [
    "## Partial correlation between 𝑇 and 𝑌 controlling for 𝑋𝑗: ρ(𝑇,𝑌∣ 𝑋𝑗)\n",
    "\n",
    "**confounder-detection perspective**: we want to see whether controlling for 𝑋𝑗 changes the 𝑇--𝑌 relationship. If it does, 𝑋𝑗 is a candidate confounder. (Especially if 𝑋𝑗 also correlates with 𝑇, that is the reason why we add a  two-stage feature selection later)."
   ]
  },
  {
   "cell_type": "code",
   "execution_count": 6,
   "metadata": {},
   "outputs": [
    {
     "name": "stdout",
     "output_type": "stream",
     "text": [
      "11\n",
      "['n_loans', 'years_since_default', 'loss_given_default', 'default_debt_amount', 'n_cards', 'n_refin', 'debt_cirbe', 'perc_debt_loss', 'redundantfeature4_n_loans', 'redundantfeature28_n_loans', 'redundantfeature37_n_loans']\n",
      "Partial correlations improvemnt:\n",
      "n_loans: 0.068\n",
      "years_since_default: 0.043\n",
      "loss_given_default: 0.050\n",
      "default_debt_amount: 0.022\n",
      "n_cards: 0.013\n",
      "n_refin: 0.023\n",
      "debt_cirbe: 0.020\n",
      "redundantfeature4_n_loans: 0.020\n",
      "redundantfeature14_default_debt_amount: 0.014\n",
      "redundantfeature20_n_refin: 0.017\n",
      "redundantfeature26_years_since_default: 0.027\n",
      "redundantfeature28_n_loans: 0.019\n",
      "redundantfeature30_years_since_default: 0.013\n",
      "redundantfeature34_n_loans: 0.028\n",
      "redundantfeature35_loss_given_default: 0.020\n",
      "redundantfeature37_n_loans: 0.013\n",
      "redundantfeature41_years_since_default: 0.015\n",
      "redundantfeature53_loss_given_default: 0.034\n",
      "redundantfeature57_n_refin: 0.018\n",
      "redundantfeature65_n_refin: 0.011\n",
      "redundantfeature66_n_refin: 0.010\n",
      "redundantfeature77_debt_cirbe: 0.013\n",
      "redundantfeature79_n_loans: 0.042\n",
      "redundantfeature80_debt_cirbe: 0.012\n",
      "redundantfeature81_debt_cirbe: 0.016\n",
      "redundantfeature85_n_refin: 0.012\n",
      "redundantfeature87_years_since_default: 0.022\n",
      "redundantfeature90_n_loans: 0.023\n",
      "redundantfeature100_debt_cirbe: 0.015\n"
     ]
    }
   ],
   "source": [
    "selector_confounders = PartialCorrelationFeatureSelector(\n",
    "    correlation_threshold=0.6,\n",
    "    treatment_variable=TREATMENT,\n",
    "    min_partial_correlation=0.01 \n",
    ")\n",
    "X_transformed = selector_confounders.fit_transform(X_train, y_train)\n",
    "selected_features_confounders = list(X_transformed.columns)\n",
    "print(len(selected_features_confounders))\n",
    "print(selected_features_confounders)\n",
    "\n",
    "# You can also inspect the partial correlations\n",
    "print(\"Partial correlations improvemnt:\")\n",
    "for feat, corr in selector_confounders.feature_partial_correlations_.items():\n",
    "    if abs(corr) > 0.01:\n",
    "        print(f\"{feat}: {corr:.3f}\")"
   ]
  },
  {
   "cell_type": "markdown",
   "metadata": {},
   "source": [
    "## Partial correlation between 𝑋𝑗 and 𝑌 controlling for 𝑇: ρ(𝑋𝑗,𝑌∣ 𝑇)\n",
    "\n",
    "**outcome-predictors perspective**: may tell you which features are good predictors of the outcome above and beyond treatment, but does not directly show how 𝑋𝑗 affects the relationship between 𝑇 and 𝑌."
   ]
  },
  {
   "cell_type": "code",
   "execution_count": 7,
   "metadata": {},
   "outputs": [
    {
     "name": "stdout",
     "output_type": "stream",
     "text": [
      "8\n",
      "['years_history', 'n_accounts', 'n_loans', 'loss_given_default', 'n_refin', 'months_since_first_payment', 'perc_debt_loss', 'redundantfeature74_years_history']\n",
      "Partial correlations with outcome:\n",
      "years_history: 0.237\n"
     ]
    }
   ],
   "source": [
    "\n",
    "selector_y_predictors = OutcomePartialCorrelationFeatureSelector(\n",
    "    correlation_threshold=0.6,\n",
    "    treatment_variable=TREATMENT,\n",
    "    min_partial_correlation=0.1  # minimum required partial correlation with OUTCOME\n",
    ")\n",
    "X_transformed = selector_y_predictors.fit_transform(X_train, y_train)\n",
    "selected_features_y_predictors = list(X_transformed.columns)\n",
    "print(len(selected_features_y_predictors))\n",
    "print(selected_features_y_predictors)\n",
    "\n",
    "# You can also inspect the partial correlations\n",
    "print(\"Partial correlations with outcome:\")\n",
    "for feat, corr in selector_y_predictors.feature_partial_correlations_.items():\n",
    "    if abs(corr) > 0.2:\n",
    "        print(f\"{feat}: {corr:.3f}\")"
   ]
  },
  {
   "cell_type": "markdown",
   "metadata": {},
   "source": [
    "# $P(T|X)$ - Fast Correlation Based Filter + Sequential Forward Seletector"
   ]
  },
  {
   "cell_type": "code",
   "execution_count": 8,
   "metadata": {},
   "outputs": [
    {
     "name": "stdout",
     "output_type": "stream",
     "text": [
      "(12000, 410) (3000, 410)\n"
     ]
    }
   ],
   "source": [
    "X_train_treatment, y_train_treatment = (\n",
    "    train.drop(columns=[TREATMENT, OUTCOME]).copy(),\n",
    "    train[[TREATMENT]],\n",
    ")\n",
    "X_test_treatment, y_test_treatment = (\n",
    "    test[X_train_treatment.columns],\n",
    "    test[[TREATMENT]],\n",
    ")\n",
    "print(X_train_treatment.shape, X_test_treatment.shape)"
   ]
  },
  {
   "cell_type": "code",
   "execution_count": 9,
   "metadata": {},
   "outputs": [],
   "source": [
    "init_params_reg = {\n",
    "    \"n_estimators\": 400,\n",
    "    \"depth\": 4,\n",
    "    \"min_data_in_leaf\": round(X_train_treatment.shape[0]*(2/3)*0.01),\n",
    "    \"learning_rate\": 0.01,\n",
    "    \"subsample\": 1,\n",
    "    \"rsm\": 1,\n",
    "    \"objective\": \"RMSE\",\n",
    "    \"silent\": True,\n",
    "    \"l2_leaf_reg\": 3,\n",
    "    \"random_seed\": 42\n",
    "}\n",
    "reg = CatBoostRegressor(**init_params_reg)\n",
    "scorer = metrics.make_scorer(metrics.root_mean_squared_error)"
   ]
  },
  {
   "cell_type": "code",
   "execution_count": 10,
   "metadata": {},
   "outputs": [
    {
     "name": "stdout",
     "output_type": "stream",
     "text": [
      "Selected columns by FCBF: 9\n",
      "['years_since_default', 'n_loans', 'default_debt_amount', 'debt_cirbe', 'loss_given_default', 'n_refin', 'n_cards', 'noise*feature*171', 'redundantfeature17_n_accounts']\n",
      "\n",
      "Initial score with no features: inf\n",
      "Iteration 1: Added 'years_since_default' (Score: 17.583139, Performance gain: inf)\n",
      "Iteration 2: Added 'default_debt_amount' (Score: 15.195364, Performance gain: 2.387775)\n",
      "Iteration 3: Added 'n_loans' (Score: 13.178257, Performance gain: 2.017107)\n",
      "Iteration 4: Added 'loss_given_default' (Score: 11.776950, Performance gain: 1.401306)\n",
      "Iteration 5: Added 'debt_cirbe' (Score: 10.312195, Performance gain: 1.464755)\n",
      "Iteration 6: Added 'n_cards' (Score: 9.803577, Performance gain: 0.508619)\n",
      "Iteration 7: Added 'n_refin' (Score: 9.331850, Performance gain: 0.471726)\n",
      "\n",
      "Stopping: No features can be added that improve performance\n",
      "\n",
      "SFS Feature selection completed:\n",
      "- Started with 0 features\n",
      "- Added 7 features\n",
      "- Left 2 features unused\n",
      "- Final score: 9.3319\n",
      "7\n",
      "['years_since_default', 'default_debt_amount', 'n_loans', 'loss_given_default', 'debt_cirbe', 'n_cards', 'n_refin']\n"
     ]
    }
   ],
   "source": [
    "selector_t = HybridSelector(\n",
    "    model=reg,\n",
    "    scorer=scorer,\n",
    "    metric_direction='minimize',\n",
    "    cv=KFold(n_splits=3, random_state=42, shuffle=True),\n",
    "    categorical_features=None,\n",
    "    min_improvement=0.00,\n",
    "    task='regression',\n",
    "    fcbf_threshold=0.0001,\n",
    "    include_treatment=False,\n",
    ")\n",
    "X_train_treatment_selected = selector_t.fit_transform(X_train_treatment, y_train_treatment)\n",
    "selected_features_ptx = list(X_train_treatment_selected.columns)\n",
    "print(len(selected_features_ptx))\n",
    "print(selected_features_ptx)"
   ]
  },
  {
   "cell_type": "markdown",
   "metadata": {},
   "source": [
    "# Save features"
   ]
  },
  {
   "cell_type": "code",
   "execution_count": 13,
   "metadata": {},
   "outputs": [
    {
     "name": "stdout",
     "output_type": "stream",
     "text": [
      "14\n"
     ]
    },
    {
     "data": {
      "text/plain": [
       "['redundantfeature37_n_loans',\n",
       " 'n_accounts',\n",
       " 'redundantfeature74_years_history',\n",
       " 'n_cards',\n",
       " 'n_loans',\n",
       " 'n_refin',\n",
       " 'debt_cirbe',\n",
       " 'redundantfeature28_n_loans',\n",
       " 'months_since_first_payment',\n",
       " 'redundantfeature4_n_loans',\n",
       " 'years_since_default',\n",
       " 'loss_given_default',\n",
       " 'default_debt_amount',\n",
       " 'years_history']"
      ]
     },
     "execution_count": 13,
     "metadata": {},
     "output_type": "execute_result"
    }
   ],
   "source": [
    "controls_candidates = list(set(selected_features_confounders + selected_features_y_predictors + selected_features_ptx))\n",
    "controls_candidates = [c for c in controls_candidates if c not in [TREATMENT, OUTCOME]]\n",
    "print(len(controls_candidates))\n",
    "controls_candidates"
   ]
  },
  {
   "cell_type": "code",
   "execution_count": 14,
   "metadata": {},
   "outputs": [
    {
     "name": "stderr",
     "output_type": "stream",
     "text": [
      "\"rm\" no se reconoce como un comando interno o externo,\n",
      "programa o archivo por lotes ejecutable.\n"
     ]
    }
   ],
   "source": [
    "!rm -rf file_name\n",
    "confounder_candidates = [c for c in controls_candidates if c not in [TREATMENT, OUTCOME]]\n",
    "with open(CONTROLS_CANDIDATES_PATH, \"w\") as output:\n",
    "    for row in controls_candidates:\n",
    "        output.write(str(row) + \"\\n\")"
   ]
  },
  {
   "cell_type": "code",
   "execution_count": null,
   "metadata": {},
   "outputs": [],
   "source": []
  }
 ],
 "metadata": {
  "kernelspec": {
   "display_name": "causal_inference",
   "language": "python",
   "name": "python3"
  },
  "language_info": {
   "codemirror_mode": {
    "name": "ipython",
    "version": 3
   },
   "file_extension": ".py",
   "mimetype": "text/x-python",
   "name": "python",
   "nbconvert_exporter": "python",
   "pygments_lexer": "ipython3",
   "version": "3.9.5"
  }
 },
 "nbformat": 4,
 "nbformat_minor": 2
}
