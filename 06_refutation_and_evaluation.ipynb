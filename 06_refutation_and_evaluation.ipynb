{
 "cells": [
  {
   "cell_type": "markdown",
   "id": "e1003e92-5b4b-4147-8bf5-e3f7f71f452c",
   "metadata": {},
   "source": [
    "# Refutation & Evaluation\n",
    "\n",
    "**Objetivo:** Select the best estimate\n"
   ]
  },
  {
   "cell_type": "markdown",
   "id": "577fe8ca-884c-4e32-ae38-d70613b02289",
   "metadata": {},
   "source": [
    "# Dependencies"
   ]
  },
  {
   "cell_type": "code",
   "execution_count": 1,
   "id": "9816c515-4af9-4819-8696-f4f9b1625556",
   "metadata": {},
   "outputs": [],
   "source": [
    "import pickle\n",
    "import numpy as np\n",
    "import pandas as pd\n",
    "import matplotlib.pyplot as plt\n",
    "import seaborn as sns\n",
    "import statsmodels.formula.api as smf\n",
    "\n",
    "from config import TREATMENT, OUTCOME\n",
    "from sklearn.model_selection import train_test_split\n",
    "from sklearn.preprocessing import MinMaxScaler, StandardScaler\n",
    "from sklearn.base import clone\n",
    "from catboost import CatBoostClassifier, CatBoostRegressor\n",
    "\n",
    "from utils.potential_outcomes import (\n",
    "    get_metrics,\n",
    "    individual_dose_response_curve,\n",
    "    average_dose_response_curve,\n",
    ")\n",
    "\n",
    "from utils.preprocessing import create_stratification_split_col\n",
    "from utils.estimates import logistic_regression_estimation, s_learner_estimation, iptw_estimation\n",
    "from modules.iptw import ContinuousIPTW\n",
    "\n",
    "import warnings\n",
    "warnings.filterwarnings(\"ignore\")"
   ]
  },
  {
   "cell_type": "markdown",
   "id": "35e2d604-f5ef-4519-908e-9020e8aedd58",
   "metadata": {},
   "source": [
    "# Environment variables"
   ]
  },
  {
   "cell_type": "code",
   "execution_count": 2,
   "id": "54a965ab-b6b3-4038-b720-e1592b5264cb",
   "metadata": {},
   "outputs": [],
   "source": [
    "CONTROLS_PATH = \"data/controls.txt\"\n",
    "OUTCOME_CAUSES_PATH = \"data/outcome_causes.txt\""
   ]
  },
  {
   "cell_type": "code",
   "execution_count": 3,
   "id": "abb1bf6d",
   "metadata": {},
   "outputs": [],
   "source": [
    "step = 1\n",
    "bin_edges = np.arange(0, 100+step, step)"
   ]
  },
  {
   "cell_type": "markdown",
   "id": "8505456a-6c78-43dd-b2ab-15b0af69579d",
   "metadata": {},
   "source": [
    "# Utils"
   ]
  },
  {
   "cell_type": "code",
   "execution_count": 4,
   "id": "f9407a25",
   "metadata": {},
   "outputs": [],
   "source": [
    "def random_var(\n",
    "    data_var=None, distribution=\"permutation\", sample_size=100, random_state=42\n",
    "):\n",
    "    np.random.seed(random_state)\n",
    "    if distribution == \"permutation\":\n",
    "        var_random = np.random.permutation(data_var)\n",
    "    if (distribution == \"uniform\") and (data_var is not None):\n",
    "        var_random = np.random.random_integers(\n",
    "            low=data_var.min(), high=data_var.max(), size=sample_size\n",
    "        )\n",
    "    if (distribution == \"normal\") and (data_var is not None):\n",
    "        var_random = np.random.normal(\n",
    "            loc=data_var.mean(), scale=data_var.std(), size=sample_size\n",
    "        )\n",
    "    if (distribution == \"normal\") and (data_var is None):\n",
    "        var_random = np.random.normal(loc=0.0, scale=1.0, size=sample_size)\n",
    "    return var_random"
   ]
  },
  {
   "cell_type": "code",
   "execution_count": 34,
   "id": "ab5127b6",
   "metadata": {},
   "outputs": [],
   "source": [
    "def get_ci_refutation_results(\n",
    "    refutation,\n",
    "    estimation_method,\n",
    "    train_df,\n",
    "    n_iterations,\n",
    "    intervention_df,\n",
    "    intervention_values,\n",
    "    adjustment_set,\n",
    "    n_variables_common_cause=5,\n",
    "    confidence_level=0.95\n",
    "):\n",
    "\n",
    "    average_dose_response_curves = []\n",
    "    for i in range(n_iterations):\n",
    "        # Create a bootstrapped dataset\n",
    "        adjustment_set_iter = adjustment_set\n",
    "        features_model = adjustment_set + [TREATMENT]\n",
    "        X_train_iter, y_train_iter = (\n",
    "            train_df[features_model],\n",
    "            train_df[[OUTCOME]],\n",
    "        )\n",
    "        intervention_df_copy = intervention_df.copy()\n",
    "        if refutation == \"placebo_treatment_replacement\":\n",
    "            random_treatment = random_var(\n",
    "                X_train_iter[TREATMENT],\n",
    "                distribution=\"permutation\",\n",
    "                sample_size=X_train_iter.shape[0],\n",
    "                random_state=i,\n",
    "            )\n",
    "            X_train_iter[TREATMENT] = random_treatment\n",
    "        \n",
    "        if refutation == \"random_common_cause\":\n",
    "            common_causes = []\n",
    "            for cc_i in range(1, n_variables_common_cause + 1):\n",
    "                random_confounder = random_var(\n",
    "                    None,\n",
    "                    distribution=\"normal\",\n",
    "                    sample_size=X_train_iter.shape[0],\n",
    "                    random_state=cc_i + i,\n",
    "                )\n",
    "                common_cause_name = \"random_confounder_\" + str(cc_i)\n",
    "                X_train_iter[common_cause_name] = random_confounder\n",
    "                common_causes.append(common_cause_name)\n",
    "\n",
    "            features_model = adjustment_set + [TREATMENT] + common_causes\n",
    "            adjustment_set_iter = adjustment_set + common_causes\n",
    "            for cc_i, common_cause_name in enumerate(common_causes):\n",
    "                random_confounder_test = random_var(\n",
    "                    None,\n",
    "                    distribution=\"normal\",\n",
    "                    sample_size=intervention_df_copy.shape[0],\n",
    "                    random_state=cc_i * i,\n",
    "                )\n",
    "                intervention_df_copy[common_cause_name] = random_confounder_test\n",
    "\n",
    "        # train model and predict POs\n",
    "        if estimation_method == \"logistic_reg\":\n",
    "            train_iter = pd.concat([X_train_iter, y_train_iter], axis=1) \n",
    "            log_regression_boostrap = logistic_regression_estimation(train_iter, adjustment_set_iter)\n",
    "            individual_potential_outcome = individual_dose_response_curve(\n",
    "                df_eval=intervention_df_copy,\n",
    "                treatment_interventions=intervention_values,\n",
    "                predictive_model=log_regression_boostrap, \n",
    "                modelling_features=adjustment_set_iter + [TREATMENT], \n",
    "                feature_counterfactual=TREATMENT, \n",
    "                model_package=\"statsmodels\",\n",
    "                task=\"classification\"\n",
    "            )\n",
    "\n",
    "        elif estimation_method == \"s_learner\":\n",
    "            s_learner_params = {\n",
    "                \"n_estimators\": 200,\n",
    "                \"depth\": None,\n",
    "                \"min_data_in_leaf\": round(X_train_iter.shape[0]*0.01),\n",
    "                \"learning_rate\": 0.01,\n",
    "                \"subsample\": 1,\n",
    "                \"rsm\": 1,\n",
    "                \"objective\": \"Logloss\",\n",
    "                \"silent\": True,\n",
    "                \"l2_leaf_reg\": 3\n",
    "            }\n",
    "            s_learner_model = CatBoostClassifier(**s_learner_params)\n",
    "            s_learner_boostrap = s_learner_estimation(X_train_iter, y_train_iter, adjustment_set_iter+[TREATMENT], s_learner_model)\n",
    "            individual_potential_outcome = individual_dose_response_curve(\n",
    "                df_eval=intervention_df_copy,\n",
    "                treatment_interventions=intervention_values,\n",
    "                predictive_model=s_learner_boostrap, \n",
    "                modelling_features=adjustment_set_iter + [TREATMENT], \n",
    "                feature_counterfactual=TREATMENT, \n",
    "                model_package=\"sklearn\",\n",
    "                task=\"classification\"\n",
    "            )\n",
    "\n",
    "        elif estimation_method == \"iptw\":\n",
    "            init_params = {\n",
    "                \"n_estimators\": 200,\n",
    "                \"depth\": None,\n",
    "                \"min_data_in_leaf\": round(X_train_iter.shape[0]*(2/3)*0.01),\n",
    "                \"learning_rate\": 0.01,\n",
    "                \"subsample\": 1,\n",
    "                \"rsm\": 1,\n",
    "                \"objective\": \"RMSE\",\n",
    "                \"silent\": True,\n",
    "                \"l2_leaf_reg\": 3\n",
    "            }\n",
    "            model_propensity = CatBoostRegressor(**init_params)\n",
    "            bin_edges_contained = intervention_values\n",
    "            bin_edges_contained[0] = -1\n",
    "            weighter = ContinuousIPTW(model=model_propensity, n_folds=5, random_state=42)\n",
    "            controls = [c for c in features_model if c != TREATMENT]\n",
    "            weights_iptw = weighter.compute_weights(X_train_iter[controls], X_train_iter[[TREATMENT]], bin_edges_contained)\n",
    "\n",
    "            iptw_params = {\n",
    "                \"n_estimators\": 200,\n",
    "                \"depth\": None,\n",
    "                \"min_data_in_leaf\": round(X_train_iter.shape[0]*0.01),\n",
    "                \"learning_rate\": 0.01,\n",
    "                \"subsample\": 1,\n",
    "                \"rsm\": 1,\n",
    "                \"objective\": \"Logloss\",\n",
    "                \"silent\": True,\n",
    "                \"l2_leaf_reg\": 3\n",
    "            }\n",
    "            iptw_model = CatBoostClassifier(**iptw_params)\n",
    "            iptw_boostrap = iptw_estimation(X_train_iter, y_train_iter, weights_iptw, features_model, iptw_model)\n",
    "            individual_potential_outcome = individual_dose_response_curve(\n",
    "                df_eval=intervention_df_copy,\n",
    "                treatment_interventions=intervention_values,\n",
    "                predictive_model=iptw_boostrap, \n",
    "                modelling_features=adjustment_set_iter + [TREATMENT], \n",
    "                feature_counterfactual=TREATMENT, \n",
    "                model_package=\"sklearn\",\n",
    "                task=\"classification\"\n",
    "            )\n",
    "\n",
    "        # get results\n",
    "        individual_potential_outcomes_resample = np.array(individual_potential_outcome)\n",
    "        average_dose_response_curve_resample = np.mean(individual_potential_outcomes_resample, axis=0)\n",
    "        average_dose_response_curves.append(average_dose_response_curve_resample)\n",
    "\n",
    "    # Convert predictions to a NumPy array\n",
    "    average_dose_response_curves = np.array(average_dose_response_curves)\n",
    "\n",
    "    # Average\n",
    "    average_dose_response_curve = np.mean(average_dose_response_curves, axis=0)\n",
    "\n",
    "\n",
    "    # Confidence intervals\n",
    "    lower_bound_dose_response = np.percentile(average_dose_response_curves, (1 - confidence_level) * 100, axis=0)\n",
    "    upper_bound_dose_response = np.percentile(average_dose_response_curves, confidence_level * 100, axis=0)\n",
    "    \n",
    "    return average_dose_response_curve, lower_bound_dose_response, upper_bound_dose_response"
   ]
  },
  {
   "cell_type": "markdown",
   "id": "607c0830-97c5-4182-ae1c-129cb3ff3d1c",
   "metadata": {},
   "source": [
    "# Data"
   ]
  },
  {
   "cell_type": "code",
   "execution_count": 14,
   "id": "084306ba-41b8-49ac-a431-e3fa07da857b",
   "metadata": {},
   "outputs": [
    {
     "data": {
      "text/plain": [
       "['years_since_default',\n",
       " 'n_refin',\n",
       " 'loss_given_default',\n",
       " 'n_loans',\n",
       " 'n_cards',\n",
       " 'debt_cirbe',\n",
       " 'default_debt_amount']"
      ]
     },
     "execution_count": 14,
     "metadata": {},
     "output_type": "execute_result"
    }
   ],
   "source": [
    "with open(CONTROLS_PATH) as f:\n",
    "    controls = f.read().split(\"\\n\")\n",
    "controls = [c for c in controls if c != \"\"]\n",
    "controls"
   ]
  },
  {
   "cell_type": "code",
   "execution_count": 15,
   "id": "7abb12b3",
   "metadata": {},
   "outputs": [
    {
     "data": {
      "text/plain": [
       "['years_history']"
      ]
     },
     "execution_count": 15,
     "metadata": {},
     "output_type": "execute_result"
    }
   ],
   "source": [
    "with open(OUTCOME_CAUSES_PATH) as f:\n",
    "    outcome_causes = f.read().split(\"\\n\")\n",
    "outcome_causes = [c for c in outcome_causes if c != \"\"]\n",
    "outcome_causes"
   ]
  },
  {
   "cell_type": "code",
   "execution_count": 16,
   "id": "097f3608-64c4-4575-9665-02f91f8bb94b",
   "metadata": {},
   "outputs": [],
   "source": [
    "df_original = pd.read_parquet(\"data/synthetic_data.parquet\")\n",
    "df = df_original[controls + outcome_causes + [TREATMENT, OUTCOME]]\n",
    "train_propagated = pd.read_parquet(\"data/synthetic_train_data_propagated.parquet\")"
   ]
  },
  {
   "cell_type": "markdown",
   "id": "5493551e-b15b-4c74-91e9-fa3d037a40fc",
   "metadata": {},
   "source": [
    "# Split"
   ]
  },
  {
   "cell_type": "code",
   "execution_count": 17,
   "id": "5bb2fe29-be87-46a7-a97c-d283376e87e7",
   "metadata": {},
   "outputs": [
    {
     "name": "stdout",
     "output_type": "stream",
     "text": [
      "(23701, 8) (12000, 9) (3000, 9)\n"
     ]
    }
   ],
   "source": [
    "strat_feature = create_stratification_split_col(df, TREATMENT, OUTCOME)\n",
    "train, test = train_test_split(\n",
    "    df, test_size=0.2, random_state=42, \n",
    "    stratify=strat_feature,\n",
    ")\n",
    "\n",
    "X_train_propagated, y_train_propagated = (\n",
    "    train_propagated[controls + [TREATMENT]],\n",
    "    train_propagated[[OUTCOME]],\n",
    ")\n",
    "\n",
    "X_train, y_train = (\n",
    "    train.drop(columns=[OUTCOME]).copy(),\n",
    "    train[[OUTCOME]],\n",
    ")\n",
    "X_test, y_test = (\n",
    "    test[X_train.columns],\n",
    "    test[[OUTCOME]],\n",
    ")\n",
    "print(X_train_propagated.shape, X_train.shape, X_test.shape)"
   ]
  },
  {
   "cell_type": "markdown",
   "id": "78ffe6e8",
   "metadata": {},
   "source": [
    "# Refutation and Evaluation"
   ]
  },
  {
   "cell_type": "code",
   "execution_count": 18,
   "id": "c9c90908",
   "metadata": {},
   "outputs": [],
   "source": [
    "methods = [\"logistic_reg\", \"s_learner\"]\n",
    "\n",
    "colors = {\n",
    "    \"logistic_reg\": \"orange\",\n",
    "    \"s_learner\": \"darkblue\",\n",
    "}"
   ]
  },
  {
   "cell_type": "markdown",
   "id": "620d5490",
   "metadata": {},
   "source": [
    "## Placebo Treatment Replacement"
   ]
  },
  {
   "cell_type": "code",
   "execution_count": 19,
   "id": "a5cb401a",
   "metadata": {},
   "outputs": [
    {
     "name": "stdout",
     "output_type": "stream",
     "text": [
      "Optimization terminated successfully.\n",
      "         Current function value: 0.616656\n",
      "         Iterations 6\n",
      "Optimization terminated successfully.\n",
      "         Current function value: 0.616739\n",
      "         Iterations 6\n",
      "Optimization terminated successfully.\n",
      "         Current function value: 0.616748\n",
      "         Iterations 6\n",
      "Optimization terminated successfully.\n",
      "         Current function value: 0.616748\n",
      "         Iterations 6\n",
      "Optimization terminated successfully.\n",
      "         Current function value: 0.616664\n",
      "         Iterations 6\n"
     ]
    },
    {
     "data": {
      "image/png": "[encoded data removed]",
      "text/plain": [
       "<Figure size 640x480 with 1 Axes>"
      ]
     },
     "metadata": {},
     "output_type": "display_data"
    }
   ],
   "source": [
    "\n",
    "for est_method in methods:\n",
    "    average_dose_response_curve_method, lower_ci, upper_ci = get_ci_refutation_results(\n",
    "        refutation=\"placebo_treatment_replacement\",\n",
    "        estimation_method=est_method,\n",
    "        train_df=train_propagated.copy(),\n",
    "        n_iterations=5,\n",
    "        intervention_df=test.copy(),\n",
    "        intervention_values=bin_edges,\n",
    "        adjustment_set=controls,\n",
    "        n_variables_common_cause=5,\n",
    "        monotone_constrains=None,\n",
    "        confidence_level=0.95\n",
    "    )\n",
    "\n",
    "    plt.plot(\n",
    "        bin_edges,\n",
    "        average_dose_response_curve_method,\n",
    "        label=est_method,\n",
    "        color=colors[est_method],\n",
    "    )\n",
    "    plt.fill_between(\n",
    "        bin_edges,\n",
    "        lower_ci,\n",
    "        upper_ci,\n",
    "        alpha=0.3,\n",
    "        color=colors[est_method],\n",
    "    )\n",
    "\n",
    "plt.xlabel(\"Percentage of debt forgiveness (%)\")\n",
    "plt.ylabel(\"Potential Outcomes - Probability of debt repayment\")\n",
    "plt.title(\"Estimates\")\n",
    "plt.legend()\n",
    "plt.ylim(0, 1)\n",
    "plt.xlim(0, 100)\n",
    "plt.show()"
   ]
  },
  {
   "cell_type": "markdown",
   "id": "a7b76382",
   "metadata": {},
   "source": [
    "## Random Common Cause"
   ]
  },
  {
   "cell_type": "code",
   "execution_count": 35,
   "id": "700e6779",
   "metadata": {},
   "outputs": [
    {
     "name": "stdout",
     "output_type": "stream",
     "text": [
      "Optimization terminated successfully.\n",
      "         Current function value: 0.486684\n",
      "         Iterations 6\n",
      "Optimization terminated successfully.\n",
      "         Current function value: 0.486632\n",
      "         Iterations 6\n",
      "Optimization terminated successfully.\n",
      "         Current function value: 0.486666\n",
      "         Iterations 6\n",
      "Optimization terminated successfully.\n",
      "         Current function value: 0.486583\n",
      "         Iterations 6\n",
      "Optimization terminated successfully.\n",
      "         Current function value: 0.486585\n",
      "         Iterations 6\n"
     ]
    },
    {
     "data": {
      "image/png": "[encoded data removed]",
      "text/plain": [
       "<Figure size 640x480 with 1 Axes>"
      ]
     },
     "metadata": {},
     "output_type": "display_data"
    }
   ],
   "source": [
    "for est_method in methods:\n",
    "    average_dose_response_curve_method, lower_ci, upper_ci = get_ci_refutation_results(\n",
    "        refutation=\"random_common_cause\",\n",
    "        estimation_method=est_method,\n",
    "        train_df=train_propagated.copy(),\n",
    "        n_iterations=5,\n",
    "        intervention_df=test.copy(),\n",
    "        intervention_values=bin_edges,\n",
    "        adjustment_set=controls,\n",
    "        n_variables_common_cause=5,\n",
    "        confidence_level=0.95\n",
    "    )\n",
    "\n",
    "    plt.plot(\n",
    "        bin_edges,\n",
    "        average_dose_response_curve_method,\n",
    "        label=est_method,\n",
    "        color=colors[est_method],\n",
    "    )\n",
    "    plt.fill_between(\n",
    "        bin_edges,\n",
    "        lower_ci,\n",
    "        upper_ci,\n",
    "        alpha=0.3,\n",
    "        color=colors[est_method],\n",
    "    )\n",
    "\n",
    "plt.xlabel(\"Percentage of debt forgiveness (%)\")\n",
    "plt.ylabel(\"Potential Outcomes - Probability of debt repayment\")\n",
    "plt.title(\"Estimates\")\n",
    "plt.legend()\n",
    "plt.ylim(0, 1)\n",
    "plt.xlim(0, 100)\n",
    "plt.show()"
   ]
  },
  {
   "cell_type": "markdown",
   "id": "5760a8e1",
   "metadata": {},
   "source": [
    "## E-values"
   ]
  },
  {
   "cell_type": "code",
   "execution_count": null,
   "id": "3f704b48",
   "metadata": {},
   "outputs": [],
   "source": []
  },
  {
   "cell_type": "markdown",
   "id": "a0cf97c9",
   "metadata": {},
   "source": [
    "## QINI curves"
   ]
  },
  {
   "cell_type": "code",
   "execution_count": null,
   "id": "88edd804",
   "metadata": {},
   "outputs": [],
   "source": []
  }
 ],
 "metadata": {
  "availableInstances": [
   {
    "_defaultOrder": 0,
    "_isFastLaunch": true,
    "category": "General purpose",
    "gpuNum": 0,
    "hideHardwareSpecs": false,
    "memoryGiB": 4,
    "name": "ml.t3.medium",
    "vcpuNum": 2
   },
   {
    "_defaultOrder": 1,
    "_isFastLaunch": false,
    "category": "General purpose",
    "gpuNum": 0,
    "hideHardwareSpecs": false,
    "memoryGiB": 8,
    "name": "ml.t3.large",
    "vcpuNum": 2
   },
   {
    "_defaultOrder": 2,
    "_isFastLaunch": false,
    "category": "General purpose",
    "gpuNum": 0,
    "hideHardwareSpecs": false,
    "memoryGiB": 16,
    "name": "ml.t3.xlarge",
    "vcpuNum": 4
   },
   {
    "_defaultOrder": 3,
    "_isFastLaunch": false,
    "category": "General purpose",
    "gpuNum": 0,
    "hideHardwareSpecs": false,
    "memoryGiB": 32,
    "name": "ml.t3.2xlarge",
    "vcpuNum": 8
   },
   {
    "_defaultOrder": 4,
    "_isFastLaunch": true,
    "category": "General purpose",
    "gpuNum": 0,
    "hideHardwareSpecs": false,
    "memoryGiB": 8,
    "name": "ml.m5.large",
    "vcpuNum": 2
   },
   {
    "_defaultOrder": 5,
    "_isFastLaunch": false,
    "category": "General purpose",
    "gpuNum": 0,
    "hideHardwareSpecs": false,
    "memoryGiB": 16,
    "name": "ml.m5.xlarge",
    "vcpuNum": 4
   },
   {
    "_defaultOrder": 6,
    "_isFastLaunch": false,
    "category": "General purpose",
    "gpuNum": 0,
    "hideHardwareSpecs": false,
    "memoryGiB": 32,
    "name": "ml.m5.2xlarge",
    "vcpuNum": 8
   },
   {
    "_defaultOrder": 7,
    "_isFastLaunch": false,
    "category": "General purpose",
    "gpuNum": 0,
    "hideHardwareSpecs": false,
    "memoryGiB": 64,
    "name": "ml.m5.4xlarge",
    "vcpuNum": 16
   },
   {
    "_defaultOrder": 8,
    "_isFastLaunch": false,
    "category": "General purpose",
    "gpuNum": 0,
    "hideHardwareSpecs": false,
    "memoryGiB": 128,
    "name": "ml.m5.8xlarge",
    "vcpuNum": 32
   },
   {
    "_defaultOrder": 9,
    "_isFastLaunch": false,
    "category": "General purpose",
    "gpuNum": 0,
    "hideHardwareSpecs": false,
    "memoryGiB": 192,
    "name": "ml.m5.12xlarge",
    "vcpuNum": 48
   },
   {
    "_defaultOrder": 10,
    "_isFastLaunch": false,
    "category": "General purpose",
    "gpuNum": 0,
    "hideHardwareSpecs": false,
    "memoryGiB": 256,
    "name": "ml.m5.16xlarge",
    "vcpuNum": 64
   },
   {
    "_defaultOrder": 11,
    "_isFastLaunch": false,
    "category": "General purpose",
    "gpuNum": 0,
    "hideHardwareSpecs": false,
    "memoryGiB": 384,
    "name": "ml.m5.24xlarge",
    "vcpuNum": 96
   },
   {
    "_defaultOrder": 12,
    "_isFastLaunch": false,
    "category": "General purpose",
    "gpuNum": 0,
    "hideHardwareSpecs": false,
    "memoryGiB": 8,
    "name": "ml.m5d.large",
    "vcpuNum": 2
   },
   {
    "_defaultOrder": 13,
    "_isFastLaunch": false,
    "category": "General purpose",
    "gpuNum": 0,
    "hideHardwareSpecs": false,
    "memoryGiB": 16,
    "name": "ml.m5d.xlarge",
    "vcpuNum": 4
   },
   {
    "_defaultOrder": 14,
    "_isFastLaunch": false,
    "category": "General purpose",
    "gpuNum": 0,
    "hideHardwareSpecs": false,
    "memoryGiB": 32,
    "name": "ml.m5d.2xlarge",
    "vcpuNum": 8
   },
   {
    "_defaultOrder": 15,
    "_isFastLaunch": false,
    "category": "General purpose",
    "gpuNum": 0,
    "hideHardwareSpecs": false,
    "memoryGiB": 64,
    "name": "ml.m5d.4xlarge",
    "vcpuNum": 16
   },
   {
    "_defaultOrder": 16,
    "_isFastLaunch": false,
    "category": "General purpose",
    "gpuNum": 0,
    "hideHardwareSpecs": false,
    "memoryGiB": 128,
    "name": "ml.m5d.8xlarge",
    "vcpuNum": 32
   },
   {
    "_defaultOrder": 17,
    "_isFastLaunch": false,
    "category": "General purpose",
    "gpuNum": 0,
    "hideHardwareSpecs": false,
    "memoryGiB": 192,
    "name": "ml.m5d.12xlarge",
    "vcpuNum": 48
   },
   {
    "_defaultOrder": 18,
    "_isFastLaunch": false,
    "category": "General purpose",
    "gpuNum": 0,
    "hideHardwareSpecs": false,
    "memoryGiB": 256,
    "name": "ml.m5d.16xlarge",
    "vcpuNum": 64
   },
   {
    "_defaultOrder": 19,
    "_isFastLaunch": false,
    "category": "General purpose",
    "gpuNum": 0,
    "hideHardwareSpecs": false,
    "memoryGiB": 384,
    "name": "ml.m5d.24xlarge",
    "vcpuNum": 96
   },
   {
    "_defaultOrder": 20,
    "_isFastLaunch": false,
    "category": "General purpose",
    "gpuNum": 0,
    "hideHardwareSpecs": true,
    "memoryGiB": 0,
    "name": "ml.geospatial.interactive",
    "supportedImageNames": [
     "sagemaker-geospatial-v1-0"
    ],
    "vcpuNum": 0
   },
   {
    "_defaultOrder": 21,
    "_isFastLaunch": true,
    "category": "Compute optimized",
    "gpuNum": 0,
    "hideHardwareSpecs": false,
    "memoryGiB": 4,
    "name": "ml.c5.large",
    "vcpuNum": 2
   },
   {
    "_defaultOrder": 22,
    "_isFastLaunch": false,
    "category": "Compute optimized",
    "gpuNum": 0,
    "hideHardwareSpecs": false,
    "memoryGiB": 8,
    "name": "ml.c5.xlarge",
    "vcpuNum": 4
   },
   {
    "_defaultOrder": 23,
    "_isFastLaunch": false,
    "category": "Compute optimized",
    "gpuNum": 0,
    "hideHardwareSpecs": false,
    "memoryGiB": 16,
    "name": "ml.c5.2xlarge",
    "vcpuNum": 8
   },
   {
    "_defaultOrder": 24,
    "_isFastLaunch": false,
    "category": "Compute optimized",
    "gpuNum": 0,
    "hideHardwareSpecs": false,
    "memoryGiB": 32,
    "name": "ml.c5.4xlarge",
    "vcpuNum": 16
   },
   {
    "_defaultOrder": 25,
    "_isFastLaunch": false,
    "category": "Compute optimized",
    "gpuNum": 0,
    "hideHardwareSpecs": false,
    "memoryGiB": 72,
    "name": "ml.c5.9xlarge",
    "vcpuNum": 36
   },
   {
    "_defaultOrder": 26,
    "_isFastLaunch": false,
    "category": "Compute optimized",
    "gpuNum": 0,
    "hideHardwareSpecs": false,
    "memoryGiB": 96,
    "name": "ml.c5.12xlarge",
    "vcpuNum": 48
   },
   {
    "_defaultOrder": 27,
    "_isFastLaunch": false,
    "category": "Compute optimized",
    "gpuNum": 0,
    "hideHardwareSpecs": false,
    "memoryGiB": 144,
    "name": "ml.c5.18xlarge",
    "vcpuNum": 72
   },
   {
    "_defaultOrder": 28,
    "_isFastLaunch": false,
    "category": "Compute optimized",
    "gpuNum": 0,
    "hideHardwareSpecs": false,
    "memoryGiB": 192,
    "name": "ml.c5.24xlarge",
    "vcpuNum": 96
   },
   {
    "_defaultOrder": 29,
    "_isFastLaunch": true,
    "category": "Accelerated computing",
    "gpuNum": 1,
    "hideHardwareSpecs": false,
    "memoryGiB": 16,
    "name": "ml.g4dn.xlarge",
    "vcpuNum": 4
   },
   {
    "_defaultOrder": 30,
    "_isFastLaunch": false,
    "category": "Accelerated computing",
    "gpuNum": 1,
    "hideHardwareSpecs": false,
    "memoryGiB": 32,
    "name": "ml.g4dn.2xlarge",
    "vcpuNum": 8
   },
   {
    "_defaultOrder": 31,
    "_isFastLaunch": false,
    "category": "Accelerated computing",
    "gpuNum": 1,
    "hideHardwareSpecs": false,
    "memoryGiB": 64,
    "name": "ml.g4dn.4xlarge",
    "vcpuNum": 16
   },
   {
    "_defaultOrder": 32,
    "_isFastLaunch": false,
    "category": "Accelerated computing",
    "gpuNum": 1,
    "hideHardwareSpecs": false,
    "memoryGiB": 128,
    "name": "ml.g4dn.8xlarge",
    "vcpuNum": 32
   },
   {
    "_defaultOrder": 33,
    "_isFastLaunch": false,
    "category": "Accelerated computing",
    "gpuNum": 4,
    "hideHardwareSpecs": false,
    "memoryGiB": 192,
    "name": "ml.g4dn.12xlarge",
    "vcpuNum": 48
   },
   {
    "_defaultOrder": 34,
    "_isFastLaunch": false,
    "category": "Accelerated computing",
    "gpuNum": 1,
    "hideHardwareSpecs": false,
    "memoryGiB": 256,
    "name": "ml.g4dn.16xlarge",
    "vcpuNum": 64
   },
   {
    "_defaultOrder": 35,
    "_isFastLaunch": false,
    "category": "Accelerated computing",
    "gpuNum": 1,
    "hideHardwareSpecs": false,
    "memoryGiB": 61,
    "name": "ml.p3.2xlarge",
    "vcpuNum": 8
   },
   {
    "_defaultOrder": 36,
    "_isFastLaunch": false,
    "category": "Accelerated computing",
    "gpuNum": 4,
    "hideHardwareSpecs": false,
    "memoryGiB": 244,
    "name": "ml.p3.8xlarge",
    "vcpuNum": 32
   },
   {
    "_defaultOrder": 37,
    "_isFastLaunch": false,
    "category": "Accelerated computing",
    "gpuNum": 8,
    "hideHardwareSpecs": false,
    "memoryGiB": 488,
    "name": "ml.p3.16xlarge",
    "vcpuNum": 64
   },
   {
    "_defaultOrder": 38,
    "_isFastLaunch": false,
    "category": "Accelerated computing",
    "gpuNum": 8,
    "hideHardwareSpecs": false,
    "memoryGiB": 768,
    "name": "ml.p3dn.24xlarge",
    "vcpuNum": 96
   },
   {
    "_defaultOrder": 39,
    "_isFastLaunch": false,
    "category": "Memory Optimized",
    "gpuNum": 0,
    "hideHardwareSpecs": false,
    "memoryGiB": 16,
    "name": "ml.r5.large",
    "vcpuNum": 2
   },
   {
    "_defaultOrder": 40,
    "_isFastLaunch": false,
    "category": "Memory Optimized",
    "gpuNum": 0,
    "hideHardwareSpecs": false,
    "memoryGiB": 32,
    "name": "ml.r5.xlarge",
    "vcpuNum": 4
   },
   {
    "_defaultOrder": 41,
    "_isFastLaunch": false,
    "category": "Memory Optimized",
    "gpuNum": 0,
    "hideHardwareSpecs": false,
    "memoryGiB": 64,
    "name": "ml.r5.2xlarge",
    "vcpuNum": 8
   },
   {
    "_defaultOrder": 42,
    "_isFastLaunch": false,
    "category": "Memory Optimized",
    "gpuNum": 0,
    "hideHardwareSpecs": false,
    "memoryGiB": 128,
    "name": "ml.r5.4xlarge",
    "vcpuNum": 16
   },
   {
    "_defaultOrder": 43,
    "_isFastLaunch": false,
    "category": "Memory Optimized",
    "gpuNum": 0,
    "hideHardwareSpecs": false,
    "memoryGiB": 256,
    "name": "ml.r5.8xlarge",
    "vcpuNum": 32
   },
   {
    "_defaultOrder": 44,
    "_isFastLaunch": false,
    "category": "Memory Optimized",
    "gpuNum": 0,
    "hideHardwareSpecs": false,
    "memoryGiB": 384,
    "name": "ml.r5.12xlarge",
    "vcpuNum": 48
   },
   {
    "_defaultOrder": 45,
    "_isFastLaunch": false,
    "category": "Memory Optimized",
    "gpuNum": 0,
    "hideHardwareSpecs": false,
    "memoryGiB": 512,
    "name": "ml.r5.16xlarge",
    "vcpuNum": 64
   },
   {
    "_defaultOrder": 46,
    "_isFastLaunch": false,
    "category": "Memory Optimized",
    "gpuNum": 0,
    "hideHardwareSpecs": false,
    "memoryGiB": 768,
    "name": "ml.r5.24xlarge",
    "vcpuNum": 96
   },
   {
    "_defaultOrder": 47,
    "_isFastLaunch": false,
    "category": "Accelerated computing",
    "gpuNum": 1,
    "hideHardwareSpecs": false,
    "memoryGiB": 16,
    "name": "ml.g5.xlarge",
    "vcpuNum": 4
   },
   {
    "_defaultOrder": 48,
    "_isFastLaunch": false,
    "category": "Accelerated computing",
    "gpuNum": 1,
    "hideHardwareSpecs": false,
    "memoryGiB": 32,
    "name": "ml.g5.2xlarge",
    "vcpuNum": 8
   },
   {
    "_defaultOrder": 49,
    "_isFastLaunch": false,
    "category": "Accelerated computing",
    "gpuNum": 1,
    "hideHardwareSpecs": false,
    "memoryGiB": 64,
    "name": "ml.g5.4xlarge",
    "vcpuNum": 16
   },
   {
    "_defaultOrder": 50,
    "_isFastLaunch": false,
    "category": "Accelerated computing",
    "gpuNum": 1,
    "hideHardwareSpecs": false,
    "memoryGiB": 128,
    "name": "ml.g5.8xlarge",
    "vcpuNum": 32
   },
   {
    "_defaultOrder": 51,
    "_isFastLaunch": false,
    "category": "Accelerated computing",
    "gpuNum": 1,
    "hideHardwareSpecs": false,
    "memoryGiB": 256,
    "name": "ml.g5.16xlarge",
    "vcpuNum": 64
   },
   {
    "_defaultOrder": 52,
    "_isFastLaunch": false,
    "category": "Accelerated computing",
    "gpuNum": 4,
    "hideHardwareSpecs": false,
    "memoryGiB": 192,
    "name": "ml.g5.12xlarge",
    "vcpuNum": 48
   },
   {
    "_defaultOrder": 53,
    "_isFastLaunch": false,
    "category": "Accelerated computing",
    "gpuNum": 4,
    "hideHardwareSpecs": false,
    "memoryGiB": 384,
    "name": "ml.g5.24xlarge",
    "vcpuNum": 96
   },
   {
    "_defaultOrder": 54,
    "_isFastLaunch": false,
    "category": "Accelerated computing",
    "gpuNum": 8,
    "hideHardwareSpecs": false,
    "memoryGiB": 768,
    "name": "ml.g5.48xlarge",
    "vcpuNum": 192
   },
   {
    "_defaultOrder": 55,
    "_isFastLaunch": false,
    "category": "Accelerated computing",
    "gpuNum": 8,
    "hideHardwareSpecs": false,
    "memoryGiB": 1152,
    "name": "ml.p4d.24xlarge",
    "vcpuNum": 96
   },
   {
    "_defaultOrder": 56,
    "_isFastLaunch": false,
    "category": "Accelerated computing",
    "gpuNum": 8,
    "hideHardwareSpecs": false,
    "memoryGiB": 1152,
    "name": "ml.p4de.24xlarge",
    "vcpuNum": 96
   },
   {
    "_defaultOrder": 57,
    "_isFastLaunch": false,
    "category": "Accelerated computing",
    "gpuNum": 0,
    "hideHardwareSpecs": false,
    "memoryGiB": 32,
    "name": "ml.trn1.2xlarge",
    "vcpuNum": 8
   },
   {
    "_defaultOrder": 58,
    "_isFastLaunch": false,
    "category": "Accelerated computing",
    "gpuNum": 0,
    "hideHardwareSpecs": false,
    "memoryGiB": 512,
    "name": "ml.trn1.32xlarge",
    "vcpuNum": 128
   },
   {
    "_defaultOrder": 59,
    "_isFastLaunch": false,
    "category": "Accelerated computing",
    "gpuNum": 0,
    "hideHardwareSpecs": false,
    "memoryGiB": 512,
    "name": "ml.trn1n.32xlarge",
    "vcpuNum": 128
   }
  ],
  "instance_type": "ml.m5.2xlarge",
  "kernelspec": {
   "display_name": "causal_inference",
   "language": "python",
   "name": "python3"
  },
  "language_info": {
   "codemirror_mode": {
    "name": "ipython",
    "version": 3
   },
   "file_extension": ".py",
   "mimetype": "text/x-python",
   "name": "python",
   "nbconvert_exporter": "python",
   "pygments_lexer": "ipython3",
   "version": "3.9.5"
  },
  "toc-autonumbering": true,
  "toc-showcode": false,
  "toc-showtags": true
 },
 "nbformat": 4,
 "nbformat_minor": 5
}
